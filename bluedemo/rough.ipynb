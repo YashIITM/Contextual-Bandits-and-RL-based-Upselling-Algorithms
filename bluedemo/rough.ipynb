{
 "cells": [
  {
   "cell_type": "code",
   "execution_count": 1,
   "metadata": {},
   "outputs": [],
   "source": [
    "\n",
    "from src.env import SampleContext, GetRealReward\n",
    "import numpy as np\n"
   ]
  },
  {
   "cell_type": "code",
   "execution_count": 2,
   "metadata": {},
   "outputs": [],
   "source": [
    "T = 5000 # Total number of periods\n",
    "d = 4 # the dimension of context\n",
    "K = 4\n",
    "A = np.random.normal(loc=0, scale=1, size=(d, d))\n",
    "\n",
    "context_list = SampleContext(d, K)\n",
    "realized_reward = GetRealReward(context_list, A)"
   ]
  },
  {
   "cell_type": "code",
   "execution_count": 109,
   "metadata": {},
   "outputs": [
    {
     "name": "stdout",
     "output_type": "stream",
     "text": [
      "cpu\n",
      "Using device cpu\n"
     ]
    }
   ],
   "source": [
    "from src.env import SampleContext, GetRealReward\n",
    "import numpy as np\n",
    "import torch\n",
    "device = torch.device(\"cuda:0\" if torch.cuda.is_available() else \"cpu\")\n",
    "print(device)\n",
    "type(device)\n",
    "import numpy as np\n",
    "import random\n",
    "from copy import deepcopy\n",
    "np.random.seed(12345)\n",
    "K = 10\n",
    "T = 6000 \n",
    "d = 10\n",
    "\n",
    "L = 2\n",
    "m = 30 \n",
    "# we fix gamma in each round, according to the description of section 3.1\n",
    "gamma_t = 0.01\n",
    "nu = 0.1 \n",
    "lambda_ = 1\n",
    "delta = 0.01 \n",
    "S = 0.01 \n",
    "eta = 1e-3 \n",
    "frequency = 100\n",
    "batchsize = 100\n",
    "verbose = False\n",
    "\n",
    "\n",
    "from src.neuralucb import NeuralAgent\n",
    "neuralagent = NeuralAgent(\n",
    "    K=K, T=T, d=d, L=L, m=m, gamma_t=gamma_t, nu=nu, lambda_=lambda_, delta=delta, S=S, eta=eta, frequency=frequency, batchsize=batchsize\n",
    ")\n",
    "\n",
    "import pandas as pd\n",
    "from datetime import datetime\n",
    "dates_ = pd.date_range(start = datetime.today(), periods = 100000, freq='S').to_pydatetime().tolist()\n",
    "dates_ = pd.to_datetime(dates_)\n"
   ]
  },
  {
   "cell_type": "code",
   "execution_count": 110,
   "metadata": {},
   "outputs": [
    {
     "name": "stderr",
     "output_type": "stream",
     "text": [
      "100%|██████████| 6000/6000 [01:42<00:00, 58.48it/s] \n"
     ]
    }
   ],
   "source": [
    "from tqdm import tqdm\n",
    "import altair as alt\n",
    "def plot_animation(df):\n",
    "    lines = alt.Chart(df).mark_line().encode(\n",
    "       x=alt.X('date:T', axis=alt.Axis(title='date')),\n",
    "       y=alt.Y('rank:Q',axis=alt.Axis(title='rank')),\n",
    "       color = 'color'\n",
    "     ).properties(\n",
    "       width=600,\n",
    "       height=300\n",
    "     ) \n",
    "    return lines\n",
    "\n",
    "\n",
    "action_list = []\n",
    "best_action = []\n",
    "action_rank = []\n",
    "\n",
    "for tt in tqdm(range(1, T + 1)):\n",
    "\n",
    "    if tt %2000 == 1:\n",
    "        A = np.random.normal(loc=0, scale=1, size=(d, d))\n",
    "\n",
    "    \n",
    "    ''' God Mode'''\n",
    "    context_list = SampleContext(d, K)\n",
    "    realized_reward = GetRealReward(context_list, A)\n",
    "    best_action_for_customer = np.argmax(realized_reward)\n",
    "    best_action.append(best_action_for_customer)\n",
    "    action_order = np.flip(np.argsort(realized_reward))\n",
    "\n",
    "    ''' God Mode ends'''\n",
    "    \n",
    "    neural_ind = neuralagent.Action(context_list)\n",
    "    action_list.append(neural_ind)\n",
    "    action_rank.append(list(action_order).index(neural_ind))\n",
    "\n",
    "\n",
    "\n",
    "\n",
    "    ''' Online Learning '''\n",
    "    neural_reward = realized_reward[neural_ind]\n",
    "    neuralagent.Update(neural_reward)\n",
    "  \n",
    "\n",
    "\n"
   ]
  },
  {
   "cell_type": "code",
   "execution_count": 114,
   "metadata": {},
   "outputs": [],
   "source": [
    "Noise1 = np.random.normal(loc=0, scale=1, size=(d, d))"
   ]
  },
  {
   "cell_type": "code",
   "execution_count": 115,
   "metadata": {},
   "outputs": [
    {
     "data": {
      "text/plain": [
       "array([[ 1.03513724,  0.89986631, -0.99165589,  0.17304611, -0.44521485,\n",
       "        -0.48241121, -0.3065082 , -1.33974646, -0.05159259,  1.39330634],\n",
       "       [-1.43410411,  1.34088242,  1.65815082, -0.96566497,  0.54959456,\n",
       "        -0.2225205 ,  0.43828197, -2.26389725, -0.64746076, -0.65861741],\n",
       "       [-0.34723455,  0.44053496,  0.56271894, -1.81638238, -0.74145958,\n",
       "        -0.19013955,  0.2237593 , -1.15043409, -0.49142117, -0.20787133],\n",
       "       [-1.5595861 , -0.01064697,  0.25904144,  0.20237692,  0.44901926,\n",
       "         0.29458354,  0.53077817, -0.61170283,  0.6180329 , -0.08735059],\n",
       "       [-0.17381736, -0.04487909, -0.11366522, -0.38599898, -0.75202456,\n",
       "        -1.81884108,  1.69487849, -0.58194566,  0.59578742,  0.22014065],\n",
       "       [ 2.20471425, -0.99708262, -0.75954544,  1.83097543, -0.65118077,\n",
       "        -0.63963824,  1.0023038 , -0.71567689, -0.69198143,  0.81551945],\n",
       "       [ 0.36421688,  0.02067178, -0.02044666, -0.03723369, -0.48671207,\n",
       "         1.6103433 ,  0.24013615,  0.7640551 ,  0.63456015, -0.74320889],\n",
       "       [ 0.91430238, -1.1622794 , -0.79350238,  0.58638572, -0.27859085,\n",
       "        -0.94421851,  0.82034712,  0.79788724, -0.19466189,  2.6354602 ],\n",
       "       [ 0.36664543, -0.57402455, -1.67993448, -0.21634367,  0.43475154,\n",
       "         0.48892713,  0.76073011, -0.10295128, -0.77357205, -0.21291703],\n",
       "       [ 0.25191764,  0.36235263,  0.67301617,  0.64786072, -1.48725489,\n",
       "        -1.35342636, -1.06394888,  0.02516283, -0.48613376,  1.92416347]])"
      ]
     },
     "execution_count": 115,
     "metadata": {},
     "output_type": "execute_result"
    }
   ],
   "source": [
    "Noise1"
   ]
  },
  {
   "cell_type": "code",
   "execution_count": 120,
   "metadata": {},
   "outputs": [],
   "source": [
    "Noise2 = Noise1 + np.random.normal(loc=0, scale=0.05, size=(d, d))"
   ]
  },
  {
   "cell_type": "code",
   "execution_count": 121,
   "metadata": {},
   "outputs": [
    {
     "data": {
      "text/plain": [
       "array([[ 0.86758871,  0.85314891, -1.00136584,  0.2340702 , -0.64086168,\n",
       "        -0.51429761, -0.25697877, -1.34529011, -0.07111135,  1.5415936 ],\n",
       "       [-1.37047332,  1.31265131,  1.76304658, -0.78711976,  0.53603753,\n",
       "        -0.30549822,  0.60537628, -2.29208927, -0.70733563, -0.74118615],\n",
       "       [-0.24568046,  0.41210624,  0.72995008, -1.8595181 , -0.84922087,\n",
       "        -0.19640299,  0.22552766, -1.09792321, -0.55217972, -0.22443269],\n",
       "       [-1.52163436,  0.05050339,  0.38939445,  0.24407464,  0.51195661,\n",
       "         0.27115324,  0.44429283, -0.47238388,  0.61336559, -0.20608949],\n",
       "       [-0.03532666,  0.12248732, -0.08314806, -0.3383049 , -0.80639182,\n",
       "        -1.71375139,  1.82235732, -0.71144565,  0.6143357 ,  0.14731229],\n",
       "       [ 2.08187304, -1.26189925, -0.54800247,  1.79236191, -0.54824563,\n",
       "        -0.62088432,  1.09353057, -0.51455963, -0.62027855,  0.71143229],\n",
       "       [ 0.31887794,  0.0660777 , -0.06489317, -0.18506269, -0.47465225,\n",
       "         1.54779179,  0.20507828,  0.58881816,  0.61509549, -0.63479629],\n",
       "       [ 1.02543148, -1.06418001, -0.77312327,  0.53665687, -0.30818902,\n",
       "        -1.06786463,  0.7685451 ,  0.92524439, -0.24921907,  2.58666904],\n",
       "       [ 0.29712852, -0.58497688, -1.79805048, -0.22066955,  0.50976251,\n",
       "         0.45438065,  0.67539336, -0.19466167, -0.83678704, -0.11274805],\n",
       "       [ 0.2699024 ,  0.34255474,  0.64435901,  0.56970473, -1.44882927,\n",
       "        -1.30518227, -1.13544833,  0.17657803, -0.54770857,  1.94259557]])"
      ]
     },
     "execution_count": 121,
     "metadata": {},
     "output_type": "execute_result"
    }
   ],
   "source": [
    "Noise2"
   ]
  },
  {
   "cell_type": "code",
   "execution_count": 119,
   "metadata": {},
   "outputs": [
    {
     "data": {
      "text/plain": [
       "array([[ 1.03513724,  0.89986631, -0.99165589,  0.17304611, -0.44521485,\n",
       "        -0.48241121, -0.3065082 , -1.33974646, -0.05159259,  1.39330634],\n",
       "       [-1.43410411,  1.34088242,  1.65815082, -0.96566497,  0.54959456,\n",
       "        -0.2225205 ,  0.43828197, -2.26389725, -0.64746076, -0.65861741],\n",
       "       [-0.34723455,  0.44053496,  0.56271894, -1.81638238, -0.74145958,\n",
       "        -0.19013955,  0.2237593 , -1.15043409, -0.49142117, -0.20787133],\n",
       "       [-1.5595861 , -0.01064697,  0.25904144,  0.20237692,  0.44901926,\n",
       "         0.29458354,  0.53077817, -0.61170283,  0.6180329 , -0.08735059],\n",
       "       [-0.17381736, -0.04487909, -0.11366522, -0.38599898, -0.75202456,\n",
       "        -1.81884108,  1.69487849, -0.58194566,  0.59578742,  0.22014065],\n",
       "       [ 2.20471425, -0.99708262, -0.75954544,  1.83097543, -0.65118077,\n",
       "        -0.63963824,  1.0023038 , -0.71567689, -0.69198143,  0.81551945],\n",
       "       [ 0.36421688,  0.02067178, -0.02044666, -0.03723369, -0.48671207,\n",
       "         1.6103433 ,  0.24013615,  0.7640551 ,  0.63456015, -0.74320889],\n",
       "       [ 0.91430238, -1.1622794 , -0.79350238,  0.58638572, -0.27859085,\n",
       "        -0.94421851,  0.82034712,  0.79788724, -0.19466189,  2.6354602 ],\n",
       "       [ 0.36664543, -0.57402455, -1.67993448, -0.21634367,  0.43475154,\n",
       "         0.48892713,  0.76073011, -0.10295128, -0.77357205, -0.21291703],\n",
       "       [ 0.25191764,  0.36235263,  0.67301617,  0.64786072, -1.48725489,\n",
       "        -1.35342636, -1.06394888,  0.02516283, -0.48613376,  1.92416347]])"
      ]
     },
     "execution_count": 119,
     "metadata": {},
     "output_type": "execute_result"
    }
   ],
   "source": [
    "Noise1"
   ]
  },
  {
   "cell_type": "code",
   "execution_count": 111,
   "metadata": {},
   "outputs": [
    {
     "data": {
      "text/plain": [
       "<Axes: xlabel='time'>"
      ]
     },
     "execution_count": 111,
     "metadata": {},
     "output_type": "execute_result"
    },
    {
     "data": {
      "image/png": "[encoded data removed]",
      "text/plain": [
       "<Figure size 640x480 with 1 Axes>"
      ]
     },
     "metadata": {},
     "output_type": "display_data"
    }
   ],
   "source": [
    "import pandas as pd\n",
    "import matplotlib.pyplot as plt\n",
    "df = pd.DataFrame(action_rank)\n",
    "df['rank'] = action_rank\n",
    "df['rank'] = df['rank'].ewm(com=20).mean()\n",
    "df['time'] = np.arange(len(action_rank))\n",
    "df.plot(x = 'time',y ='rank')"
   ]
  },
  {
   "cell_type": "code",
   "execution_count": 93,
   "metadata": {},
   "outputs": [],
   "source": [
    "df_actions = pd.DataFrame()\n",
    "df_actions['action_agent'] = action_list\n",
    "df_actions['action_best'] = best_action[:len(action_list)]\n",
    "from collections import Counter\n",
    "100*Counter(df_actions[df_actions['action_agent'] == 1]['action_best'].values)[1]/len(df_actions[df_actions['action_agent'] == 1])\n"
   ]
  },
  {
   "cell_type": "code",
   "execution_count": 104,
   "metadata": {},
   "outputs": [],
   "source": [
    "nba = {}\n",
    "for i in range(K): \n",
    "    nba[i] = 100*Counter(df_actions[df_actions['action_agent'] == i]['action_best'].values)[i]/len(df_actions[df_actions['action_agent'] == i])\n",
    "        "
   ]
  },
  {
   "cell_type": "code",
   "execution_count": 105,
   "metadata": {},
   "outputs": [
    {
     "data": {
      "text/plain": [
       "{0: 60.0,\n",
       " 1: 50.0,\n",
       " 2: 71.42857142857143,\n",
       " 3: 20.0,\n",
       " 4: 50.0,\n",
       " 5: 52.94117647058823,\n",
       " 6: 27.272727272727273,\n",
       " 7: 57.142857142857146,\n",
       " 8: 14.814814814814815,\n",
       " 9: 7.6923076923076925}"
      ]
     },
     "execution_count": 105,
     "metadata": {},
     "output_type": "execute_result"
    }
   ],
   "source": [
    "nba"
   ]
  },
  {
   "cell_type": "code",
   "execution_count": 83,
   "metadata": {},
   "outputs": [],
   "source": [
    "import pickle\n",
    "with open('Reward_Matrix.pkl', 'rb') as f:\n",
    "    A = pickle.load(f)"
   ]
  },
  {
   "cell_type": "code",
   "execution_count": 85,
   "metadata": {},
   "outputs": [
    {
     "data": {
      "text/plain": [
       "(10, 10)"
      ]
     },
     "execution_count": 85,
     "metadata": {},
     "output_type": "execute_result"
    }
   ],
   "source": [
    "A.shape"
   ]
  },
  {
   "cell_type": "code",
   "execution_count": 80,
   "metadata": {},
   "outputs": [
    {
     "data": {
      "text/html": [
       "\n",
       "<div id=\"altair-viz-d4531e6838c846deb7d98aa509b5d6e2\"></div>\n",
       "<script type=\"text/javascript\">\n",
       "  var VEGA_DEBUG = (typeof VEGA_DEBUG == \"undefined\") ? {} : VEGA_DEBUG;\n",
       "  (function(spec, embedOpt){\n",
       "    let outputDiv = document.currentScript.previousElementSibling;\n",
       "    if (outputDiv.id !== \"altair-viz-d4531e6838c846deb7d98aa509b5d6e2\") {\n",
       "      outputDiv = document.getElementById(\"altair-viz-d4531e6838c846deb7d98aa509b5d6e2\");\n",
       "    }\n",
       "    const paths = {\n",
       "      \"vega\": \"https://cdn.jsdelivr.net/npm//vega@5?noext\",\n",
       "      \"vega-lib\": \"https://cdn.jsdelivr.net/npm//vega-lib?noext\",\n",
       "      \"vega-lite\": \"https://cdn.jsdelivr.net/npm//vega-lite@4.17.0?noext\",\n",
       "      \"vega-embed\": \"https://cdn.jsdelivr.net/npm//vega-embed@6?noext\",\n",
       "    };\n",
       "\n",
       "    function maybeLoadScript(lib, version) {\n",
       "      var key = `${lib.replace(\"-\", \"\")}_version`;\n",
       "      return (VEGA_DEBUG[key] == version) ?\n",
       "        Promise.resolve(paths[lib]) :\n",
       "        new Promise(function(resolve, reject) {\n",
       "          var s = document.createElement('script');\n",
       "          document.getElementsByTagName(\"head\")[0].appendChild(s);\n",
       "          s.async = true;\n",
       "          s.onload = () => {\n",
       "            VEGA_DEBUG[key] = version;\n",
       "            return resolve(paths[lib]);\n",
       "          };\n",
       "          s.onerror = () => reject(`Error loading script: ${paths[lib]}`);\n",
       "          s.src = paths[lib];\n",
       "        });\n",
       "    }\n",
       "\n",
       "    function showError(err) {\n",
       "      outputDiv.innerHTML = `<div class=\"error\" style=\"color:red;\">${err}</div>`;\n",
       "      throw err;\n",
       "    }\n",
       "\n",
       "    function displayChart(vegaEmbed) {\n",
       "      vegaEmbed(outputDiv, spec, embedOpt)\n",
       "        .catch(err => showError(`Javascript Error: ${err.message}<br>This usually means there's a typo in your chart specification. See the javascript console for the full traceback.`));\n",
       "    }\n",
       "\n",
       "    if(typeof define === \"function\" && define.amd) {\n",
       "      requirejs.config({paths});\n",
       "      require([\"vega-embed\"], displayChart, err => showError(`Error loading script: ${err.message}`));\n",
       "    } else {\n",
       "      maybeLoadScript(\"vega\", \"5\")\n",
       "        .then(() => maybeLoadScript(\"vega-lite\", \"4.17.0\"))\n",
       "        .then(() => maybeLoadScript(\"vega-embed\", \"6\"))\n",
       "        .catch(showError)\n",
       "        .then(() => displayChart(vegaEmbed));\n",
       "    }\n",
       "  })({\"config\": {\"view\": {\"continuousWidth\": 400, \"continuousHeight\": 300}}, \"data\": {\"name\": \"data-eeebeba87cdd8d29779c449b051ec9ec\"}, \"mark\": \"line\", \"encoding\": {\"color\": {\"field\": \"color\", \"type\": \"quantitative\"}, \"x\": {\"axis\": {\"title\": \"date\"}, \"field\": \"date\", \"type\": \"temporal\"}, \"y\": {\"axis\": {\"title\": \"rank\"}, \"field\": \"rank\", \"type\": \"quantitative\"}}, \"height\": 300, \"width\": 600, \"$schema\": \"https://vega.github.io/schema/vega-lite/v4.17.0.json\", \"datasets\": {\"data-eeebeba87cdd8d29779c449b051ec9ec\": [{\"date\": \"2023-03-19T17:15:36.365566\", \"rank\": 2, \"color\": 2}, {\"date\": \"2023-03-19T17:15:37.365566\", \"rank\": 1, \"color\": 1}, {\"date\": \"2023-03-19T17:15:38.365566\", \"rank\": 8, \"color\": 8}, {\"date\": \"2023-03-19T17:15:39.365566\", \"rank\": 9, \"color\": 9}, {\"date\": \"2023-03-19T17:15:40.365566\", \"rank\": 6, \"color\": 6}, {\"date\": \"2023-03-19T17:15:41.365566\", \"rank\": 3, \"color\": 3}, {\"date\": \"2023-03-19T17:15:42.365566\", \"rank\": 9, \"color\": 9}, {\"date\": \"2023-03-19T17:15:43.365566\", \"rank\": 3, \"color\": 3}, {\"date\": \"2023-03-19T17:15:44.365566\", \"rank\": 1, \"color\": 1}, {\"date\": \"2023-03-19T17:15:45.365566\", \"rank\": 4, \"color\": 4}, {\"date\": \"2023-03-19T17:15:46.365566\", \"rank\": 3, \"color\": 3}, {\"date\": \"2023-03-19T17:15:47.365566\", \"rank\": 1, \"color\": 1}, {\"date\": \"2023-03-19T17:15:48.365566\", \"rank\": 4, \"color\": 4}, {\"date\": \"2023-03-19T17:15:49.365566\", \"rank\": 4, \"color\": 4}, {\"date\": \"2023-03-19T17:15:50.365566\", \"rank\": 5, \"color\": 5}, {\"date\": \"2023-03-19T17:15:51.365566\", \"rank\": 4, \"color\": 4}, {\"date\": \"2023-03-19T17:15:52.365566\", \"rank\": 10, \"color\": 10}, {\"date\": \"2023-03-19T17:15:53.365566\", \"rank\": 7, \"color\": 7}, {\"date\": \"2023-03-19T17:15:54.365566\", \"rank\": 5, \"color\": 5}, {\"date\": \"2023-03-19T17:15:55.365566\", \"rank\": 5, \"color\": 5}, {\"date\": \"2023-03-19T17:15:56.365566\", \"rank\": 3, \"color\": 3}, {\"date\": \"2023-03-19T17:15:57.365566\", \"rank\": 3, \"color\": 3}, {\"date\": \"2023-03-19T17:15:58.365566\", \"rank\": 7, \"color\": 7}, {\"date\": \"2023-03-19T17:15:59.365566\", \"rank\": 8, \"color\": 8}, {\"date\": \"2023-03-19T17:16:00.365566\", \"rank\": 10, \"color\": 10}, {\"date\": \"2023-03-19T17:16:01.365566\", \"rank\": 6, \"color\": 6}, {\"date\": \"2023-03-19T17:16:02.365566\", \"rank\": 8, \"color\": 8}, {\"date\": \"2023-03-19T17:16:03.365566\", \"rank\": 5, \"color\": 5}, {\"date\": \"2023-03-19T17:16:04.365566\", \"rank\": 9, \"color\": 9}, {\"date\": \"2023-03-19T17:16:05.365566\", \"rank\": 2, \"color\": 2}, {\"date\": \"2023-03-19T17:16:06.365566\", \"rank\": 4, \"color\": 4}, {\"date\": \"2023-03-19T17:16:07.365566\", \"rank\": 3, \"color\": 3}, {\"date\": \"2023-03-19T17:16:08.365566\", \"rank\": 2, \"color\": 2}, {\"date\": \"2023-03-19T17:16:09.365566\", \"rank\": 2, \"color\": 2}, {\"date\": \"2023-03-19T17:16:10.365566\", \"rank\": 6, \"color\": 6}, {\"date\": \"2023-03-19T17:16:11.365566\", \"rank\": 1, \"color\": 1}, {\"date\": \"2023-03-19T17:16:12.365566\", \"rank\": 2, \"color\": 2}, {\"date\": \"2023-03-19T17:16:13.365566\", \"rank\": 9, \"color\": 9}, {\"date\": \"2023-03-19T17:16:14.365566\", \"rank\": 4, \"color\": 4}, {\"date\": \"2023-03-19T17:16:15.365566\", \"rank\": 2, \"color\": 2}, {\"date\": \"2023-03-19T17:16:16.365566\", \"rank\": 2, \"color\": 2}, {\"date\": \"2023-03-19T17:16:17.365566\", \"rank\": 4, \"color\": 4}, {\"date\": \"2023-03-19T17:16:18.365566\", \"rank\": 7, \"color\": 7}, {\"date\": \"2023-03-19T17:16:19.365566\", \"rank\": 8, \"color\": 8}, {\"date\": \"2023-03-19T17:16:20.365566\", \"rank\": 8, \"color\": 8}, {\"date\": \"2023-03-19T17:16:21.365566\", \"rank\": 4, \"color\": 4}, {\"date\": \"2023-03-19T17:16:22.365566\", \"rank\": 3, \"color\": 3}, {\"date\": \"2023-03-19T17:16:23.365566\", \"rank\": 5, \"color\": 5}, {\"date\": \"2023-03-19T17:16:24.365566\", \"rank\": 5, \"color\": 5}, {\"date\": \"2023-03-19T17:16:25.365566\", \"rank\": 2, \"color\": 2}, {\"date\": \"2023-03-19T17:16:26.365566\", \"rank\": 6, \"color\": 6}, {\"date\": \"2023-03-19T17:16:27.365566\", \"rank\": 10, \"color\": 10}, {\"date\": \"2023-03-19T17:16:28.365566\", \"rank\": 1, \"color\": 1}, {\"date\": \"2023-03-19T17:16:29.365566\", \"rank\": 5, \"color\": 5}, {\"date\": \"2023-03-19T17:16:30.365566\", \"rank\": 1, \"color\": 1}, {\"date\": \"2023-03-19T17:16:31.365566\", \"rank\": 6, \"color\": 6}, {\"date\": \"2023-03-19T17:16:32.365566\", \"rank\": 6, \"color\": 6}, {\"date\": \"2023-03-19T17:16:33.365566\", \"rank\": 10, \"color\": 10}, {\"date\": \"2023-03-19T17:16:34.365566\", \"rank\": 5, \"color\": 5}, {\"date\": \"2023-03-19T17:16:35.365566\", \"rank\": 4, \"color\": 4}, {\"date\": \"2023-03-19T17:16:36.365566\", \"rank\": 2, \"color\": 2}, {\"date\": \"2023-03-19T17:16:37.365566\", \"rank\": 4, \"color\": 4}, {\"date\": \"2023-03-19T17:16:38.365566\", \"rank\": 8, \"color\": 8}, {\"date\": \"2023-03-19T17:16:39.365566\", \"rank\": 2, \"color\": 2}, {\"date\": \"2023-03-19T17:16:40.365566\", \"rank\": 9, \"color\": 9}, {\"date\": \"2023-03-19T17:16:41.365566\", \"rank\": 4, \"color\": 4}, {\"date\": \"2023-03-19T17:16:42.365566\", \"rank\": 2, \"color\": 2}, {\"date\": \"2023-03-19T17:16:43.365566\", \"rank\": 9, \"color\": 9}, {\"date\": \"2023-03-19T17:16:44.365566\", \"rank\": 7, \"color\": 7}, {\"date\": \"2023-03-19T17:16:45.365566\", \"rank\": 3, \"color\": 3}, {\"date\": \"2023-03-19T17:16:46.365566\", \"rank\": 3, \"color\": 3}, {\"date\": \"2023-03-19T17:16:47.365566\", \"rank\": 7, \"color\": 7}, {\"date\": \"2023-03-19T17:16:48.365566\", \"rank\": 1, \"color\": 1}, {\"date\": \"2023-03-19T17:16:49.365566\", \"rank\": 8, \"color\": 8}, {\"date\": \"2023-03-19T17:16:50.365566\", \"rank\": 7, \"color\": 7}, {\"date\": \"2023-03-19T17:16:51.365566\", \"rank\": 2, \"color\": 2}, {\"date\": \"2023-03-19T17:16:52.365566\", \"rank\": 3, \"color\": 3}, {\"date\": \"2023-03-19T17:16:53.365566\", \"rank\": 1, \"color\": 1}, {\"date\": \"2023-03-19T17:16:54.365566\", \"rank\": 3, \"color\": 3}, {\"date\": \"2023-03-19T17:16:55.365566\", \"rank\": 7, \"color\": 7}, {\"date\": \"2023-03-19T17:16:56.365566\", \"rank\": 1, \"color\": 1}, {\"date\": \"2023-03-19T17:16:57.365566\", \"rank\": 6, \"color\": 6}, {\"date\": \"2023-03-19T17:16:58.365566\", \"rank\": 8, \"color\": 8}, {\"date\": \"2023-03-19T17:16:59.365566\", \"rank\": 3, \"color\": 3}, {\"date\": \"2023-03-19T17:17:00.365566\", \"rank\": 2, \"color\": 2}, {\"date\": \"2023-03-19T17:17:01.365566\", \"rank\": 8, \"color\": 8}, {\"date\": \"2023-03-19T17:17:02.365566\", \"rank\": 5, \"color\": 5}, {\"date\": \"2023-03-19T17:17:03.365566\", \"rank\": 2, \"color\": 2}, {\"date\": \"2023-03-19T17:17:04.365566\", \"rank\": 9, \"color\": 9}, {\"date\": \"2023-03-19T17:17:05.365566\", \"rank\": 8, \"color\": 8}, {\"date\": \"2023-03-19T17:17:06.365566\", \"rank\": 10, \"color\": 10}, {\"date\": \"2023-03-19T17:17:07.365566\", \"rank\": 10, \"color\": 10}, {\"date\": \"2023-03-19T17:17:08.365566\", \"rank\": 8, \"color\": 8}, {\"date\": \"2023-03-19T17:17:09.365566\", \"rank\": 4, \"color\": 4}, {\"date\": \"2023-03-19T17:17:10.365566\", \"rank\": 6, \"color\": 6}, {\"date\": \"2023-03-19T17:17:11.365566\", \"rank\": 8, \"color\": 8}, {\"date\": \"2023-03-19T17:17:12.365566\", \"rank\": 10, \"color\": 10}, {\"date\": \"2023-03-19T17:17:13.365566\", \"rank\": 7, \"color\": 7}, {\"date\": \"2023-03-19T17:17:14.365566\", \"rank\": 6, \"color\": 6}, {\"date\": \"2023-03-19T17:17:15.365566\", \"rank\": 6, \"color\": 6}, {\"date\": \"2023-03-19T17:17:16.365566\", \"rank\": 4, \"color\": 4}, {\"date\": \"2023-03-19T17:17:17.365566\", \"rank\": 4, \"color\": 4}, {\"date\": \"2023-03-19T17:17:18.365566\", \"rank\": 4, \"color\": 4}, {\"date\": \"2023-03-19T17:17:19.365566\", \"rank\": 8, \"color\": 8}, {\"date\": \"2023-03-19T17:17:20.365566\", \"rank\": 5, \"color\": 5}, {\"date\": \"2023-03-19T17:17:21.365566\", \"rank\": 2, \"color\": 2}, {\"date\": \"2023-03-19T17:17:22.365566\", \"rank\": 5, \"color\": 5}, {\"date\": \"2023-03-19T17:17:23.365566\", \"rank\": 4, \"color\": 4}, {\"date\": \"2023-03-19T17:17:24.365566\", \"rank\": 3, \"color\": 3}, {\"date\": \"2023-03-19T17:17:25.365566\", \"rank\": 2, \"color\": 2}, {\"date\": \"2023-03-19T17:17:26.365566\", \"rank\": 3, \"color\": 3}, {\"date\": \"2023-03-19T17:17:27.365566\", \"rank\": 10, \"color\": 10}, {\"date\": \"2023-03-19T17:17:28.365566\", \"rank\": 5, \"color\": 5}, {\"date\": \"2023-03-19T17:17:29.365566\", \"rank\": 4, \"color\": 4}, {\"date\": \"2023-03-19T17:17:30.365566\", \"rank\": 7, \"color\": 7}, {\"date\": \"2023-03-19T17:17:31.365566\", \"rank\": 8, \"color\": 8}, {\"date\": \"2023-03-19T17:17:32.365566\", \"rank\": 2, \"color\": 2}, {\"date\": \"2023-03-19T17:17:33.365566\", \"rank\": 6, \"color\": 6}]}}, {\"mode\": \"vega-lite\"});\n",
       "</script>"
      ],
      "text/plain": [
       "alt.Chart(...)"
      ]
     },
     "execution_count": 80,
     "metadata": {},
     "output_type": "execute_result"
    }
   ],
   "source": [
    "lines = plot_animation(df)\n",
    "lines"
   ]
  },
  {
   "cell_type": "code",
   "execution_count": 67,
   "metadata": {},
   "outputs": [
    {
     "data": {
      "text/plain": [
       "Timestamp('2023-03-19 00:00:00')"
      ]
     },
     "execution_count": 67,
     "metadata": {},
     "output_type": "execute_result"
    }
   ],
   "source": [
    "pd.to_datetime(str(df['data'].values[0]).split('T')[0])"
   ]
  },
  {
   "cell_type": "code",
   "execution_count": 56,
   "metadata": {},
   "outputs": [
    {
     "data": {
      "text/plain": [
       "'['"
      ]
     },
     "execution_count": 56,
     "metadata": {},
     "output_type": "execute_result"
    }
   ],
   "source": [
    "str(df['data'].values)[0]"
   ]
  },
  {
   "cell_type": "code",
   "execution_count": 12,
   "metadata": {},
   "outputs": [
    {
     "data": {
      "text/plain": [
       "7.0455"
      ]
     },
     "execution_count": 12,
     "metadata": {},
     "output_type": "execute_result"
    }
   ],
   "source": []
  },
  {
   "cell_type": "code",
   "execution_count": 2,
   "metadata": {},
   "outputs": [
    {
     "data": {
      "image/png": "[encoded data removed]",
      "text/plain": [
       "<Figure size 640x480 with 1 Axes>"
      ]
     },
     "metadata": {},
     "output_type": "display_data"
    }
   ],
   "source": [
    "import numpy as np\n",
    "import matplotlib.pyplot as plt\n",
    "from matplotlib.animation import FuncAnimation\n",
    "\n",
    "fig, ax = plt.subplots()\n",
    "xdata, ydata = [], []\n",
    "ln, = ax.plot([], [], 'ro')\n",
    "\n",
    "def init():\n",
    "    ax.set_xlim(0, 2*np.pi)\n",
    "    ax.set_ylim(-1, 1)\n",
    "    return ln,\n",
    "\n",
    "def update(frame):\n",
    "    xdata.append(frame)\n",
    "    ydata.append(np.sin(frame))\n",
    "    ln.set_data(xdata, ydata)\n",
    "    return ln,\n",
    "\n",
    "ani = FuncAnimation(fig, update, frames=np.linspace(0, 2*np.pi, 128),\n",
    "                    init_func=init, blit=True)\n",
    "plt.show()"
   ]
  },
  {
   "cell_type": "code",
   "execution_count": 110,
   "metadata": {},
   "outputs": [
    {
     "data": {
      "text/plain": [
       "<Axes: xlabel='time'>"
      ]
     },
     "execution_count": 110,
     "metadata": {},
     "output_type": "execute_result"
    },
    {
     "data": {
      "image/png": "[encoded data removed]",
      "text/plain": [
       "<Figure size 640x480 with 1 Axes>"
      ]
     },
     "metadata": {},
     "output_type": "display_data"
    }
   ],
   "source": [
    "import pandas as pd\n",
    "import matplotlib.pyplot as plt\n",
    "df = pd.DataFrame(action_rank)\n",
    "df['rank'] = action_rank\n",
    "df['rank'] = df['rank'].ewm(com=20).mean()\n",
    "df['time'] = np.arange(len(action_rank))\n",
    "df.plot(x = 'time',y ='rank')"
   ]
  },
  {
   "cell_type": "code",
   "execution_count": 1,
   "metadata": {},
   "outputs": [
    {
     "data": {
      "application/vnd.plotly.v1+json": {
       "config": {
        "plotlyServerURL": "https://plot.ly"
       },
       "data": [
        {
         "type": "scatter",
         "x": [
          0,
          1
         ],
         "y": [
          0,
          1
         ]
        }
       ],
       "frames": [
        {
         "data": [
          {
           "type": "scatter",
           "x": [
            1,
            2
           ],
           "y": [
            1,
            2
           ]
          }
         ]
        },
        {
         "data": [
          {
           "type": "scatter",
           "x": [
            1,
            4
           ],
           "y": [
            1,
            4
           ]
          }
         ]
        },
        {
         "data": [
          {
           "type": "scatter",
           "x": [
            3,
            4
           ],
           "y": [
            3,
            4
           ]
          }
         ],
         "layout": {
          "title": {
           "text": "End Title"
          }
         }
        }
       ],
       "layout": {
        "template": {
         "data": {
          "bar": [
           {
            "error_x": {
             "color": "#2a3f5f"
            },
            "error_y": {
             "color": "#2a3f5f"
            },
            "marker": {
             "line": {
              "color": "#E5ECF6",
              "width": 0.5
             },
             "pattern": {
              "fillmode": "overlay",
              "size": 10,
              "solidity": 0.2
             }
            },
            "type": "bar"
           }
          ],
          "barpolar": [
           {
            "marker": {
             "line": {
              "color": "#E5ECF6",
              "width": 0.5
             },
             "pattern": {
              "fillmode": "overlay",
              "size": 10,
              "solidity": 0.2
             }
            },
            "type": "barpolar"
           }
          ],
          "carpet": [
           {
            "aaxis": {
             "endlinecolor": "#2a3f5f",
             "gridcolor": "white",
             "linecolor": "white",
             "minorgridcolor": "white",
             "startlinecolor": "#2a3f5f"
            },
            "baxis": {
             "endlinecolor": "#2a3f5f",
             "gridcolor": "white",
             "linecolor": "white",
             "minorgridcolor": "white",
             "startlinecolor": "#2a3f5f"
            },
            "type": "carpet"
           }
          ],
          "choropleth": [
           {
            "colorbar": {
             "outlinewidth": 0,
             "ticks": ""
            },
            "type": "choropleth"
           }
          ],
          "contour": [
           {
            "colorbar": {
             "outlinewidth": 0,
             "ticks": ""
            },
            "colorscale": [
             [
              0,
              "#0d0887"
             ],
             [
              0.1111111111111111,
              "#46039f"
             ],
             [
              0.2222222222222222,
              "#7201a8"
             ],
             [
              0.3333333333333333,
              "#9c179e"
             ],
             [
              0.4444444444444444,
              "#bd3786"
             ],
             [
              0.5555555555555556,
              "#d8576b"
             ],
             [
              0.6666666666666666,
              "#ed7953"
             ],
             [
              0.7777777777777778,
              "#fb9f3a"
             ],
             [
              0.8888888888888888,
              "#fdca26"
             ],
             [
              1,
              "#f0f921"
             ]
            ],
            "type": "contour"
           }
          ],
          "contourcarpet": [
           {
            "colorbar": {
             "outlinewidth": 0,
             "ticks": ""
            },
            "type": "contourcarpet"
           }
          ],
          "heatmap": [
           {
            "colorbar": {
             "outlinewidth": 0,
             "ticks": ""
            },
            "colorscale": [
             [
              0,
              "#0d0887"
             ],
             [
              0.1111111111111111,
              "#46039f"
             ],
             [
              0.2222222222222222,
              "#7201a8"
             ],
             [
              0.3333333333333333,
              "#9c179e"
             ],
             [
              0.4444444444444444,
              "#bd3786"
             ],
             [
              0.5555555555555556,
              "#d8576b"
             ],
             [
              0.6666666666666666,
              "#ed7953"
             ],
             [
              0.7777777777777778,
              "#fb9f3a"
             ],
             [
              0.8888888888888888,
              "#fdca26"
             ],
             [
              1,
              "#f0f921"
             ]
            ],
            "type": "heatmap"
           }
          ],
          "heatmapgl": [
           {
            "colorbar": {
             "outlinewidth": 0,
             "ticks": ""
            },
            "colorscale": [
             [
              0,
              "#0d0887"
             ],
             [
              0.1111111111111111,
              "#46039f"
             ],
             [
              0.2222222222222222,
              "#7201a8"
             ],
             [
              0.3333333333333333,
              "#9c179e"
             ],
             [
              0.4444444444444444,
              "#bd3786"
             ],
             [
              0.5555555555555556,
              "#d8576b"
             ],
             [
              0.6666666666666666,
              "#ed7953"
             ],
             [
              0.7777777777777778,
              "#fb9f3a"
             ],
             [
              0.8888888888888888,
              "#fdca26"
             ],
             [
              1,
              "#f0f921"
             ]
            ],
            "type": "heatmapgl"
           }
          ],
          "histogram": [
           {
            "marker": {
             "pattern": {
              "fillmode": "overlay",
              "size": 10,
              "solidity": 0.2
             }
            },
            "type": "histogram"
           }
          ],
          "histogram2d": [
           {
            "colorbar": {
             "outlinewidth": 0,
             "ticks": ""
            },
            "colorscale": [
             [
              0,
              "#0d0887"
             ],
             [
              0.1111111111111111,
              "#46039f"
             ],
             [
              0.2222222222222222,
              "#7201a8"
             ],
             [
              0.3333333333333333,
              "#9c179e"
             ],
             [
              0.4444444444444444,
              "#bd3786"
             ],
             [
              0.5555555555555556,
              "#d8576b"
             ],
             [
              0.6666666666666666,
              "#ed7953"
             ],
             [
              0.7777777777777778,
              "#fb9f3a"
             ],
             [
              0.8888888888888888,
              "#fdca26"
             ],
             [
              1,
              "#f0f921"
             ]
            ],
            "type": "histogram2d"
           }
          ],
          "histogram2dcontour": [
           {
            "colorbar": {
             "outlinewidth": 0,
             "ticks": ""
            },
            "colorscale": [
             [
              0,
              "#0d0887"
             ],
             [
              0.1111111111111111,
              "#46039f"
             ],
             [
              0.2222222222222222,
              "#7201a8"
             ],
             [
              0.3333333333333333,
              "#9c179e"
             ],
             [
              0.4444444444444444,
              "#bd3786"
             ],
             [
              0.5555555555555556,
              "#d8576b"
             ],
             [
              0.6666666666666666,
              "#ed7953"
             ],
             [
              0.7777777777777778,
              "#fb9f3a"
             ],
             [
              0.8888888888888888,
              "#fdca26"
             ],
             [
              1,
              "#f0f921"
             ]
            ],
            "type": "histogram2dcontour"
           }
          ],
          "mesh3d": [
           {
            "colorbar": {
             "outlinewidth": 0,
             "ticks": ""
            },
            "type": "mesh3d"
           }
          ],
          "parcoords": [
           {
            "line": {
             "colorbar": {
              "outlinewidth": 0,
              "ticks": ""
             }
            },
            "type": "parcoords"
           }
          ],
          "pie": [
           {
            "automargin": true,
            "type": "pie"
           }
          ],
          "scatter": [
           {
            "fillpattern": {
             "fillmode": "overlay",
             "size": 10,
             "solidity": 0.2
            },
            "type": "scatter"
           }
          ],
          "scatter3d": [
           {
            "line": {
             "colorbar": {
              "outlinewidth": 0,
              "ticks": ""
             }
            },
            "marker": {
             "colorbar": {
              "outlinewidth": 0,
              "ticks": ""
             }
            },
            "type": "scatter3d"
           }
          ],
          "scattercarpet": [
           {
            "marker": {
             "colorbar": {
              "outlinewidth": 0,
              "ticks": ""
             }
            },
            "type": "scattercarpet"
           }
          ],
          "scattergeo": [
           {
            "marker": {
             "colorbar": {
              "outlinewidth": 0,
              "ticks": ""
             }
            },
            "type": "scattergeo"
           }
          ],
          "scattergl": [
           {
            "marker": {
             "colorbar": {
              "outlinewidth": 0,
              "ticks": ""
             }
            },
            "type": "scattergl"
           }
          ],
          "scattermapbox": [
           {
            "marker": {
             "colorbar": {
              "outlinewidth": 0,
              "ticks": ""
             }
            },
            "type": "scattermapbox"
           }
          ],
          "scatterpolar": [
           {
            "marker": {
             "colorbar": {
              "outlinewidth": 0,
              "ticks": ""
             }
            },
            "type": "scatterpolar"
           }
          ],
          "scatterpolargl": [
           {
            "marker": {
             "colorbar": {
              "outlinewidth": 0,
              "ticks": ""
             }
            },
            "type": "scatterpolargl"
           }
          ],
          "scatterternary": [
           {
            "marker": {
             "colorbar": {
              "outlinewidth": 0,
              "ticks": ""
             }
            },
            "type": "scatterternary"
           }
          ],
          "surface": [
           {
            "colorbar": {
             "outlinewidth": 0,
             "ticks": ""
            },
            "colorscale": [
             [
              0,
              "#0d0887"
             ],
             [
              0.1111111111111111,
              "#46039f"
             ],
             [
              0.2222222222222222,
              "#7201a8"
             ],
             [
              0.3333333333333333,
              "#9c179e"
             ],
             [
              0.4444444444444444,
              "#bd3786"
             ],
             [
              0.5555555555555556,
              "#d8576b"
             ],
             [
              0.6666666666666666,
              "#ed7953"
             ],
             [
              0.7777777777777778,
              "#fb9f3a"
             ],
             [
              0.8888888888888888,
              "#fdca26"
             ],
             [
              1,
              "#f0f921"
             ]
            ],
            "type": "surface"
           }
          ],
          "table": [
           {
            "cells": {
             "fill": {
              "color": "#EBF0F8"
             },
             "line": {
              "color": "white"
             }
            },
            "header": {
             "fill": {
              "color": "#C8D4E3"
             },
             "line": {
              "color": "white"
             }
            },
            "type": "table"
           }
          ]
         },
         "layout": {
          "annotationdefaults": {
           "arrowcolor": "#2a3f5f",
           "arrowhead": 0,
           "arrowwidth": 1
          },
          "autotypenumbers": "strict",
          "coloraxis": {
           "colorbar": {
            "outlinewidth": 0,
            "ticks": ""
           }
          },
          "colorscale": {
           "diverging": [
            [
             0,
             "#8e0152"
            ],
            [
             0.1,
             "#c51b7d"
            ],
            [
             0.2,
             "#de77ae"
            ],
            [
             0.3,
             "#f1b6da"
            ],
            [
             0.4,
             "#fde0ef"
            ],
            [
             0.5,
             "#f7f7f7"
            ],
            [
             0.6,
             "#e6f5d0"
            ],
            [
             0.7,
             "#b8e186"
            ],
            [
             0.8,
             "#7fbc41"
            ],
            [
             0.9,
             "#4d9221"
            ],
            [
             1,
             "#276419"
            ]
           ],
           "sequential": [
            [
             0,
             "#0d0887"
            ],
            [
             0.1111111111111111,
             "#46039f"
            ],
            [
             0.2222222222222222,
             "#7201a8"
            ],
            [
             0.3333333333333333,
             "#9c179e"
            ],
            [
             0.4444444444444444,
             "#bd3786"
            ],
            [
             0.5555555555555556,
             "#d8576b"
            ],
            [
             0.6666666666666666,
             "#ed7953"
            ],
            [
             0.7777777777777778,
             "#fb9f3a"
            ],
            [
             0.8888888888888888,
             "#fdca26"
            ],
            [
             1,
             "#f0f921"
            ]
           ],
           "sequentialminus": [
            [
             0,
             "#0d0887"
            ],
            [
             0.1111111111111111,
             "#46039f"
            ],
            [
             0.2222222222222222,
             "#7201a8"
            ],
            [
             0.3333333333333333,
             "#9c179e"
            ],
            [
             0.4444444444444444,
             "#bd3786"
            ],
            [
             0.5555555555555556,
             "#d8576b"
            ],
            [
             0.6666666666666666,
             "#ed7953"
            ],
            [
             0.7777777777777778,
             "#fb9f3a"
            ],
            [
             0.8888888888888888,
             "#fdca26"
            ],
            [
             1,
             "#f0f921"
            ]
           ]
          },
          "colorway": [
           "#636efa",
           "#EF553B",
           "#00cc96",
           "#ab63fa",
           "#FFA15A",
           "#19d3f3",
           "#FF6692",
           "#B6E880",
           "#FF97FF",
           "#FECB52"
          ],
          "font": {
           "color": "#2a3f5f"
          },
          "geo": {
           "bgcolor": "white",
           "lakecolor": "white",
           "landcolor": "#E5ECF6",
           "showlakes": true,
           "showland": true,
           "subunitcolor": "white"
          },
          "hoverlabel": {
           "align": "left"
          },
          "hovermode": "closest",
          "mapbox": {
           "style": "light"
          },
          "paper_bgcolor": "white",
          "plot_bgcolor": "#E5ECF6",
          "polar": {
           "angularaxis": {
            "gridcolor": "white",
            "linecolor": "white",
            "ticks": ""
           },
           "bgcolor": "#E5ECF6",
           "radialaxis": {
            "gridcolor": "white",
            "linecolor": "white",
            "ticks": ""
           }
          },
          "scene": {
           "xaxis": {
            "backgroundcolor": "#E5ECF6",
            "gridcolor": "white",
            "gridwidth": 2,
            "linecolor": "white",
            "showbackground": true,
            "ticks": "",
            "zerolinecolor": "white"
           },
           "yaxis": {
            "backgroundcolor": "#E5ECF6",
            "gridcolor": "white",
            "gridwidth": 2,
            "linecolor": "white",
            "showbackground": true,
            "ticks": "",
            "zerolinecolor": "white"
           },
           "zaxis": {
            "backgroundcolor": "#E5ECF6",
            "gridcolor": "white",
            "gridwidth": 2,
            "linecolor": "white",
            "showbackground": true,
            "ticks": "",
            "zerolinecolor": "white"
           }
          },
          "shapedefaults": {
           "line": {
            "color": "#2a3f5f"
           }
          },
          "ternary": {
           "aaxis": {
            "gridcolor": "white",
            "linecolor": "white",
            "ticks": ""
           },
           "baxis": {
            "gridcolor": "white",
            "linecolor": "white",
            "ticks": ""
           },
           "bgcolor": "#E5ECF6",
           "caxis": {
            "gridcolor": "white",
            "linecolor": "white",
            "ticks": ""
           }
          },
          "title": {
           "x": 0.05
          },
          "xaxis": {
           "automargin": true,
           "gridcolor": "white",
           "linecolor": "white",
           "ticks": "",
           "title": {
            "standoff": 15
           },
           "zerolinecolor": "white",
           "zerolinewidth": 2
          },
          "yaxis": {
           "automargin": true,
           "gridcolor": "white",
           "linecolor": "white",
           "ticks": "",
           "title": {
            "standoff": 15
           },
           "zerolinecolor": "white",
           "zerolinewidth": 2
          }
         }
        },
        "title": {
         "text": "Start Title"
        },
        "updatemenus": [
         {
          "buttons": [
           {
            "args": [
             null
            ],
            "label": "Play",
            "method": "animate"
           }
          ],
          "type": "buttons"
         }
        ],
        "xaxis": {
         "autorange": false,
         "range": [
          0,
          5
         ]
        },
        "yaxis": {
         "autorange": false,
         "range": [
          0,
          5
         ]
        }
       }
      }
     },
     "metadata": {},
     "output_type": "display_data"
    }
   ],
   "source": [
    "import plotly.graph_objects as go\n",
    "\n",
    "fig = go.Figure(\n",
    "    data=[go.Scatter(x=[0, 1], y=[0, 1])],\n",
    "    layout=go.Layout(\n",
    "        xaxis=dict(range=[0, 5], autorange=False),\n",
    "        yaxis=dict(range=[0, 5], autorange=False),\n",
    "        title=\"Start Title\",\n",
    "        updatemenus=[dict(\n",
    "            type=\"buttons\",\n",
    "            buttons=[dict(label=\"Play\",\n",
    "                          method=\"animate\",\n",
    "                          args=[None])])]\n",
    "    ),\n",
    "    frames=[go.Frame(data=[go.Scatter(x=[1, 2], y=[1, 2])]),\n",
    "            go.Frame(data=[go.Scatter(x=[1, 4], y=[1, 4])]),\n",
    "            go.Frame(data=[go.Scatter(x=[3, 4], y=[3, 4])],\n",
    "                     layout=go.Layout(title_text=\"End Title\"))]\n",
    ")\n",
    "\n",
    "fig.show()"
   ]
  },
  {
   "cell_type": "code",
   "execution_count": 8,
   "metadata": {},
   "outputs": [
    {
     "name": "stdout",
     "output_type": "stream",
     "text": [
      "Requirement already satisfied: nbformat in ./actionenv/lib/python3.8/site-packages (5.7.3)\n",
      "Requirement already satisfied: jupyter-core in ./actionenv/lib/python3.8/site-packages (from nbformat) (5.3.0)\n",
      "Requirement already satisfied: jsonschema>=2.6 in ./actionenv/lib/python3.8/site-packages (from nbformat) (4.17.3)\n",
      "Requirement already satisfied: traitlets>=5.1 in ./actionenv/lib/python3.8/site-packages (from nbformat) (5.9.0)\n",
      "Requirement already satisfied: fastjsonschema in ./actionenv/lib/python3.8/site-packages (from nbformat) (2.16.3)\n",
      "Requirement already satisfied: attrs>=17.4.0 in ./actionenv/lib/python3.8/site-packages (from jsonschema>=2.6->nbformat) (22.2.0)\n",
      "Requirement already satisfied: importlib-resources>=1.4.0 in ./actionenv/lib/python3.8/site-packages (from jsonschema>=2.6->nbformat) (5.12.0)\n",
      "Requirement already satisfied: pyrsistent!=0.17.0,!=0.17.1,!=0.17.2,>=0.14.0 in ./actionenv/lib/python3.8/site-packages (from jsonschema>=2.6->nbformat) (0.19.3)\n",
      "Requirement already satisfied: pkgutil-resolve-name>=1.3.10 in ./actionenv/lib/python3.8/site-packages (from jsonschema>=2.6->nbformat) (1.3.10)\n",
      "Requirement already satisfied: platformdirs>=2.5 in ./actionenv/lib/python3.8/site-packages (from jupyter-core->nbformat) (3.1.1)\n",
      "Requirement already satisfied: zipp>=3.1.0 in ./actionenv/lib/python3.8/site-packages (from importlib-resources>=1.4.0->jsonschema>=2.6->nbformat) (3.15.0)\n"
     ]
    }
   ],
   "source": [
    "!pip install nbformat"
   ]
  },
  {
   "cell_type": "code",
   "execution_count": null,
   "metadata": {},
   "outputs": [],
   "source": [
    "# arm = SampleContext(d = 4, K = 2)\n",
    "# print(np.sum(arm[0:4, 0] * arm[0:4, 0]))\n",
    "# print(np.sum(arm[0:4, 1] * arm[0:4, 1]))"
   ]
  }
 ],
 "metadata": {
  "kernelspec": {
   "display_name": "Python 3.8.16 ('actionenv': venv)",
   "language": "python",
   "name": "python3"
  },
  "language_info": {
   "codemirror_mode": {
    "name": "ipython",
    "version": 3
   },
   "file_extension": ".py",
   "mimetype": "text/x-python",
   "name": "python",
   "nbconvert_exporter": "python",
   "pygments_lexer": "ipython3",
   "version": "3.8.16"
  },
  "orig_nbformat": 4,
  "vscode": {
   "interpreter": {
    "hash": "0852fee36675ed4b2bc06758fd4a1898773b6be462a2971f2ba9d7ea755e8ff9"
   }
  }
 },
 "nbformat": 4,
 "nbformat_minor": 2
}
